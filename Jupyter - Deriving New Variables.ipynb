{
 "cells": [
  {
   "cell_type": "markdown",
   "metadata": {},
   "source": [
    "# Table of Contents -\n",
    "## 0) Import\n",
    "## 1) Task 4.7 - Deriving New Variables\n",
    "## 2) Create New Column\n",
    "## 3) Accuracy Check\n",
    "## 4) New Column 'busiest_period_of_day'\n",
    "## 5) Frequency Table\n",
    "## 6) Export"
   ]
  },
  {
   "cell_type": "markdown",
   "metadata": {},
   "source": [
    "# 0) Import"
   ]
  },
  {
   "cell_type": "code",
   "execution_count": 1,
   "metadata": {},
   "outputs": [],
   "source": [
    "import numpy as np\n",
    "import pandas as pd\n",
    "import os"
   ]
  },
  {
   "cell_type": "code",
   "execution_count": 2,
   "metadata": {},
   "outputs": [],
   "source": [
    "# Import opm\n",
    "\n",
    "opm=pd.read_pickle('/Users/sjpeterson76/Desktop/CareerFoundry/Data Immersion/Achievement 4/04-25-2021- Instacart Basket Analysis/01 Project Management/orders_products_merged.pkl')"
   ]
  },
  {
   "cell_type": "code",
   "execution_count": 3,
   "metadata": {},
   "outputs": [],
   "source": [
    "# Subset opm to 1 million rows\n",
    "\n",
    "df=opm[:1000000]"
   ]
  },
  {
   "cell_type": "code",
   "execution_count": 4,
   "metadata": {},
   "outputs": [],
   "source": [
    "# Create function that sorts by price\n",
    "\n",
    "def price_label(row):\n",
    "    if row['prices'] <= 5:\n",
    "        return 'Low range product'\n",
    "    elif (row['prices'] > 5) and (row['prices'] <= 15):\n",
    "        return 'Mid range product'\n",
    "    elif row['prices'] > 15:\n",
    "        return 'High range product'\n",
    "    else: \n",
    "        return 'Not enough data'"
   ]
  },
  {
   "cell_type": "code",
   "execution_count": 5,
   "metadata": {},
   "outputs": [
    {
     "name": "stderr",
     "output_type": "stream",
     "text": [
      "<ipython-input-5-1f46de5bb44a>:3: SettingWithCopyWarning: \n",
      "A value is trying to be set on a copy of a slice from a DataFrame.\n",
      "Try using .loc[row_indexer,col_indexer] = value instead\n",
      "\n",
      "See the caveats in the documentation: https://pandas.pydata.org/pandas-docs/stable/user_guide/indexing.html#returning-a-view-versus-a-copy\n",
      "  df['price_range']=df.apply(price_label,\n"
     ]
    }
   ],
   "source": [
    "# Apply 'price_label' function to 'df' subset as new column 'price_range'\n",
    "\n",
    "df['price_range']=df.apply(price_label,\n",
    "                           axis=1)"
   ]
  },
  {
   "cell_type": "code",
   "execution_count": 6,
   "metadata": {},
   "outputs": [
    {
     "data": {
      "text/plain": [
       "Mid range product    631969\n",
       "Low range product    368031\n",
       "Name: price_range, dtype: int64"
      ]
     },
     "execution_count": 6,
     "metadata": {},
     "output_type": "execute_result"
    }
   ],
   "source": [
    "# Get frequency on 'price_range' column\n",
    "\n",
    "df['price_range'].value_counts(dropna=False)"
   ]
  },
  {
   "cell_type": "code",
   "execution_count": 7,
   "metadata": {},
   "outputs": [
    {
     "data": {
      "text/plain": [
       "14.0"
      ]
     },
     "execution_count": 7,
     "metadata": {},
     "output_type": "execute_result"
    }
   ],
   "source": [
    "# Get max price in 'price' column\n",
    "\n",
    "df['prices'].max()"
   ]
  },
  {
   "cell_type": "code",
   "execution_count": 8,
   "metadata": {},
   "outputs": [
    {
     "name": "stderr",
     "output_type": "stream",
     "text": [
      "/Users/sjpeterson76/opt/anaconda3/lib/python3.8/site-packages/pandas/core/indexing.py:845: SettingWithCopyWarning: \n",
      "A value is trying to be set on a copy of a slice from a DataFrame.\n",
      "Try using .loc[row_indexer,col_indexer] = value instead\n",
      "\n",
      "See the caveats in the documentation: https://pandas.pydata.org/pandas-docs/stable/user_guide/indexing.html#returning-a-view-versus-a-copy\n",
      "  self.obj[key] = _infer_fill_value(value)\n",
      "/Users/sjpeterson76/opt/anaconda3/lib/python3.8/site-packages/pandas/core/indexing.py:966: SettingWithCopyWarning: \n",
      "A value is trying to be set on a copy of a slice from a DataFrame.\n",
      "Try using .loc[row_indexer,col_indexer] = value instead\n",
      "\n",
      "See the caveats in the documentation: https://pandas.pydata.org/pandas-docs/stable/user_guide/indexing.html#returning-a-view-versus-a-copy\n",
      "  self.obj[item] = s\n"
     ]
    }
   ],
   "source": [
    "# Perform the same job as 'price_label' function using .loc\n",
    "\n",
    "df.loc[df['prices'] > 15, 'price_range_loc'] = 'High-range product'"
   ]
  },
  {
   "cell_type": "code",
   "execution_count": 9,
   "metadata": {},
   "outputs": [],
   "source": [
    "# Use separate cells\n",
    "\n",
    "df.loc[(df['prices'] <= 15) & (df['prices'] > 5), 'price_range_loc'] = 'Mid-range product'"
   ]
  },
  {
   "cell_type": "code",
   "execution_count": 10,
   "metadata": {},
   "outputs": [],
   "source": [
    "df.loc[df['prices'] <= 5, 'price_range_loc'] = 'Low-range product'"
   ]
  },
  {
   "cell_type": "code",
   "execution_count": 11,
   "metadata": {
    "scrolled": true
   },
   "outputs": [
    {
     "data": {
      "text/plain": [
       "Mid-range product    631969\n",
       "Low-range product    368031\n",
       "Name: price_range_loc, dtype: int64"
      ]
     },
     "execution_count": 11,
     "metadata": {},
     "output_type": "execute_result"
    }
   ],
   "source": [
    "df['price_range_loc'].value_counts(dropna=False)"
   ]
  },
  {
   "cell_type": "code",
   "execution_count": 12,
   "metadata": {},
   "outputs": [],
   "source": [
    "# perform .loc on the whole dataset, not subset\n",
    "\n",
    "opm.loc[opm['prices'] > 15, 'price_range_loc'] = 'High-range product'"
   ]
  },
  {
   "cell_type": "code",
   "execution_count": 13,
   "metadata": {},
   "outputs": [],
   "source": [
    "opm.loc[(opm['prices'] <= 15) & (opm['prices'] > 5), 'price_range_loc'] = 'Mid-range product'"
   ]
  },
  {
   "cell_type": "code",
   "execution_count": 14,
   "metadata": {},
   "outputs": [],
   "source": [
    "opm.loc[opm['prices'] <= 5, 'price_range_loc'] = 'Low-range product'"
   ]
  },
  {
   "cell_type": "code",
   "execution_count": 15,
   "metadata": {},
   "outputs": [
    {
     "data": {
      "text/plain": [
       "Mid-range product     20462144\n",
       "Low-range product      9476774\n",
       "High-range product      389845\n",
       "Name: price_range_loc, dtype: int64"
      ]
     },
     "execution_count": 15,
     "metadata": {},
     "output_type": "execute_result"
    }
   ],
   "source": [
    "opm['price_range_loc'].value_counts(dropna=False)"
   ]
  },
  {
   "cell_type": "code",
   "execution_count": 16,
   "metadata": {},
   "outputs": [
    {
     "name": "stdout",
     "output_type": "stream",
     "text": [
      "My age is 30\n",
      "My age is 31\n",
      "My age is 32\n",
      "My age is 33\n",
      "My age is 34\n",
      "My age is 35\n",
      "My age is 36\n",
      "My age is 37\n",
      "My age is 38\n",
      "My age is 39\n",
      "My age is 40\n",
      "My age is 41\n",
      "My age is 42\n",
      "My age is 43\n",
      "My age is 44\n"
     ]
    }
   ],
   "source": [
    "# Basic for-loop\n",
    "\n",
    "for x in range(30,45):\n",
    "    print(\"My age is %d\" % (x))"
   ]
  },
  {
   "cell_type": "code",
   "execution_count": 17,
   "metadata": {},
   "outputs": [
    {
     "data": {
      "text/plain": [
       "0    5779087\n",
       "1    5303718\n",
       "6    4190948\n",
       "5    3952326\n",
       "2    3947564\n",
       "3    3600589\n",
       "4    3554531\n",
       "Name: orders_day_of_week, dtype: int64"
      ]
     },
     "execution_count": 17,
     "metadata": {},
     "output_type": "execute_result"
    }
   ],
   "source": [
    "# Create frequency variable 'freq' for quick access\n",
    "\n",
    "freq = opm['orders_day_of_week'].value_counts(dropna=False)\n",
    "freq"
   ]
  },
  {
   "cell_type": "code",
   "execution_count": 18,
   "metadata": {},
   "outputs": [],
   "source": [
    "# Create column that summarizes how busy a day is\n",
    "\n",
    "result=[]\n",
    "\n",
    "for value in opm['orders_day_of_week']:\n",
    "    if value==0:\n",
    "        result.append('Busiest Day')\n",
    "    elif value==4:\n",
    "        result.append('Least Busy')\n",
    "    else:\n",
    "        result.append('Regularly Busy')"
   ]
  },
  {
   "cell_type": "code",
   "execution_count": 19,
   "metadata": {},
   "outputs": [],
   "source": [
    "# Create new column 'busiest day' from 'result'\n",
    "\n",
    "opm['busiest_day']=result"
   ]
  },
  {
   "cell_type": "code",
   "execution_count": 20,
   "metadata": {},
   "outputs": [
    {
     "data": {
      "text/plain": [
       "Regularly Busy    20995145\n",
       "Busiest Day        5779087\n",
       "Least Busy         3554531\n",
       "Name: busiest_day, dtype: int64"
      ]
     },
     "execution_count": 20,
     "metadata": {},
     "output_type": "execute_result"
    }
   ],
   "source": [
    "# Get frequency from 'busiest_day'\n",
    "\n",
    "opm['busiest_day'].value_counts(dropna=False)"
   ]
  },
  {
   "cell_type": "markdown",
   "metadata": {},
   "source": [
    "# 1) Task 4.7 - Deriving New Variables"
   ]
  },
  {
   "cell_type": "markdown",
   "metadata": {},
   "source": [
    "## 2) Create 'Busiest Days' column"
   ]
  },
  {
   "cell_type": "code",
   "execution_count": 21,
   "metadata": {},
   "outputs": [],
   "source": [
    "# Create a list to add as column 'busiest_days'\n",
    "result2=[]\n",
    "\n",
    "# Sort by 2 busiest days (Sunday & Monday), 2 slowest days (Wednesday & Thursday)\n",
    "# Sort the rest as 'Regular Days'\n",
    "for value in opm['orders_day_of_week']:\n",
    "    if value == 0:\n",
    "        result2.append('Busiest Days')\n",
    "    elif value == 1:\n",
    "        result2.append('Busiest Days')\n",
    "    elif value == 3:\n",
    "        result2.append('Slowest Days')\n",
    "    elif value == 4:\n",
    "        result2.append('Slowest Days')\n",
    "    else:\n",
    "        result2.append('Regular Days')"
   ]
  },
  {
   "cell_type": "code",
   "execution_count": 22,
   "metadata": {},
   "outputs": [],
   "source": [
    "# Add result2 as column 'busiest_days'\n",
    "\n",
    "opm['busiest_days'] = result2"
   ]
  },
  {
   "cell_type": "code",
   "execution_count": 23,
   "metadata": {},
   "outputs": [
    {
     "name": "stdout",
     "output_type": "stream",
     "text": [
      "Regular days frequency: 12090838\n",
      " Busiest days frequency: 11082805\n",
      " Slowest days frequency: 7155120\n"
     ]
    }
   ],
   "source": [
    "# Get count in 'busiest_days' category\n",
    "\n",
    "reg_days, bus_days, slow_days = opm['busiest_days'].value_counts(dropna=False)\n",
    "print(f'Regular days frequency: {reg_days}\\n',\n",
    "      f'Busiest days frequency: {bus_days}\\n',\n",
    "      f'Slowest days frequency: {slow_days}')"
   ]
  },
  {
   "cell_type": "markdown",
   "metadata": {},
   "source": [
    "## 3) Check the values of this new column for accuracy. Note any observations in markdown format."
   ]
  },
  {
   "cell_type": "code",
   "execution_count": 24,
   "metadata": {},
   "outputs": [
    {
     "data": {
      "text/plain": [
       "0    5779087\n",
       "1    5303718\n",
       "6    4190948\n",
       "5    3952326\n",
       "2    3947564\n",
       "3    3600589\n",
       "4    3554531\n",
       "Name: orders_day_of_week, dtype: int64"
      ]
     },
     "execution_count": 24,
     "metadata": {},
     "output_type": "execute_result"
    }
   ],
   "source": [
    "# Frequency for 'orders_day_of_week'\n",
    "freq"
   ]
  },
  {
   "cell_type": "code",
   "execution_count": 25,
   "metadata": {},
   "outputs": [
    {
     "name": "stdout",
     "output_type": "stream",
     "text": [
      "0 + 1 = 11082805\n",
      " \"bus_days\" = 11082805\n",
      " 3 + 4 = 7155120\n",
      " \"slow_days\" = 7155120\n"
     ]
    }
   ],
   "source": [
    "# Printing 'orders_day_of_week' frequency totals\n",
    "\n",
    "print(f'0 + 1 = {5779087+5303718}\\n',\n",
    "      f'\"bus_days\" = {bus_days}\\n',\n",
    "      f'3 + 4 = {3600589+3554531}\\n',\n",
    "     f'\"slow_days\" = {slow_days}')"
   ]
  },
  {
   "cell_type": "markdown",
   "metadata": {},
   "source": [
    "### - Frequencies are matching up +++"
   ]
  },
  {
   "cell_type": "markdown",
   "metadata": {},
   "source": [
    "## 4) When too many users make Instacart orders at the same time, the app freezes. The senior technical officer at Instacart wants you to identify the busiest hours of the day. Rather than by hour, they want periods of time labeled “Most orders,” “Average orders,” and “Fewest orders.” Create a new column containing these labels called “busiest_period_of_day.”"
   ]
  },
  {
   "cell_type": "code",
   "execution_count": 26,
   "metadata": {},
   "outputs": [
    {
     "data": {
      "text/plain": [
       "Index(['order_id', 'user_id', 'eval_set', 'order_number', 'orders_day_of_week',\n",
       "       'order_hour_of_day', 'days_since_prior_order', 'product_id',\n",
       "       'add_to_cart_order', 'reordered', 'Unnamed: 0', 'product_name',\n",
       "       'aisle_id', 'department_id', 'prices', '_merge', 'price_range_loc',\n",
       "       'busiest_day', 'busiest_days'],\n",
       "      dtype='object')"
      ]
     },
     "execution_count": 26,
     "metadata": {},
     "output_type": "execute_result"
    }
   ],
   "source": [
    "# Quick look at column names\n",
    "\n",
    "opm.columns"
   ]
  },
  {
   "cell_type": "markdown",
   "metadata": {},
   "source": [
    "### - We want to look at 'order_hour_of_day'"
   ]
  },
  {
   "cell_type": "code",
   "execution_count": 27,
   "metadata": {},
   "outputs": [
    {
     "data": {
      "text/plain": [
       "10    2593725\n",
       "11    2564597\n",
       "14    2517238\n",
       "15    2487586\n",
       "13    2487500\n",
       "12    2445841\n",
       "16    2364969\n",
       "9     2311334\n",
       "17    1943858\n",
       "8     1622394\n",
       "18    1520954\n",
       "19    1169224\n",
       "20     910005\n",
       "7      844665\n",
       "21     746254\n",
       "22     592432\n",
       "23     375889\n",
       "6      274801\n",
       "0      203460\n",
       "1      108110\n",
       "5       82706\n",
       "2       63961\n",
       "4       49400\n",
       "3       47860\n",
       "Name: order_hour_of_day, dtype: int64"
      ]
     },
     "execution_count": 27,
     "metadata": {},
     "output_type": "execute_result"
    }
   ],
   "source": [
    "# Get frequencies for 'order_hour_of_day'\n",
    "\n",
    "opm['order_hour_of_day'].value_counts(dropna=False)"
   ]
  },
  {
   "cell_type": "markdown",
   "metadata": {},
   "source": [
    "#### It would be useful to know the hours which the crashes occurred, therefore define a range for 'most orders'\n",
    "### - 2 busiest hours of the day are 10 & 11 - 10AM & 11AM\n",
    "### -- 2 slowest hours of the day are 3 & 4 - 3AM & 4AM"
   ]
  },
  {
   "cell_type": "code",
   "execution_count": 28,
   "metadata": {},
   "outputs": [],
   "source": [
    "# Create list 'result3' to store the results of our for-loop\n",
    "result3=[]\n",
    "\n",
    "# Create for-loop to sort orders by hour\n",
    "for value in opm['order_hour_of_day']:\n",
    "    if value == 10:\n",
    "        result3.append('Most Orders')\n",
    "    elif value == 11:\n",
    "        result3.append('Most Orders')\n",
    "    elif value == 3:\n",
    "        result3.append('Fewest Orders')\n",
    "    elif value == 4:\n",
    "        result3.append('Fewest Orders')\n",
    "    else:\n",
    "        result3.append('Average Orders')        "
   ]
  },
  {
   "cell_type": "code",
   "execution_count": 29,
   "metadata": {},
   "outputs": [],
   "source": [
    "# Assign 'result3' to column 'busiest_period_of_day'\n",
    "\n",
    "opm['busiest_period_of_day'] = result3"
   ]
  },
  {
   "cell_type": "code",
   "execution_count": 30,
   "metadata": {},
   "outputs": [],
   "source": [
    "# Assign frequency to variable for quick view\n",
    "\n",
    "busy_orders_df = pd.DataFrame(data=opm['busiest_period_of_day'].value_counts(dropna=False))"
   ]
  },
  {
   "cell_type": "markdown",
   "metadata": {},
   "source": [
    "## 5) Print the frequency for this new column."
   ]
  },
  {
   "cell_type": "code",
   "execution_count": 31,
   "metadata": {},
   "outputs": [
    {
     "data": {
      "text/html": [
       "<div>\n",
       "<style scoped>\n",
       "    .dataframe tbody tr th:only-of-type {\n",
       "        vertical-align: middle;\n",
       "    }\n",
       "\n",
       "    .dataframe tbody tr th {\n",
       "        vertical-align: top;\n",
       "    }\n",
       "\n",
       "    .dataframe thead th {\n",
       "        text-align: right;\n",
       "    }\n",
       "</style>\n",
       "<table border=\"1\" class=\"dataframe\">\n",
       "  <thead>\n",
       "    <tr style=\"text-align: right;\">\n",
       "      <th></th>\n",
       "      <th>busiest_period_of_day</th>\n",
       "    </tr>\n",
       "  </thead>\n",
       "  <tbody>\n",
       "    <tr>\n",
       "      <th>Average Orders</th>\n",
       "      <td>25073181</td>\n",
       "    </tr>\n",
       "    <tr>\n",
       "      <th>Most Orders</th>\n",
       "      <td>5158322</td>\n",
       "    </tr>\n",
       "    <tr>\n",
       "      <th>Fewest Orders</th>\n",
       "      <td>97260</td>\n",
       "    </tr>\n",
       "  </tbody>\n",
       "</table>\n",
       "</div>"
      ],
      "text/plain": [
       "                busiest_period_of_day\n",
       "Average Orders               25073181\n",
       "Most Orders                   5158322\n",
       "Fewest Orders                   97260"
      ]
     },
     "execution_count": 31,
     "metadata": {},
     "output_type": "execute_result"
    }
   ],
   "source": [
    "# Return frequency view\n",
    "\n",
    "busy_orders_df"
   ]
  },
  {
   "cell_type": "markdown",
   "metadata": {},
   "source": [
    "### 5b) Match frequencies for data consistency. Referring to Ln [57]"
   ]
  },
  {
   "cell_type": "code",
   "execution_count": 32,
   "metadata": {},
   "outputs": [
    {
     "data": {
      "text/plain": [
       "5158322"
      ]
     },
     "execution_count": 32,
     "metadata": {},
     "output_type": "execute_result"
    }
   ],
   "source": [
    "# Most Orders = 5158322\n",
    "\n",
    "2593725+2564597"
   ]
  },
  {
   "cell_type": "code",
   "execution_count": 33,
   "metadata": {},
   "outputs": [
    {
     "data": {
      "text/plain": [
       "97260"
      ]
     },
     "execution_count": 33,
     "metadata": {},
     "output_type": "execute_result"
    }
   ],
   "source": [
    "# Fewest Orders = 97260\n",
    "\n",
    "49400+47860"
   ]
  },
  {
   "cell_type": "code",
   "execution_count": 34,
   "metadata": {},
   "outputs": [
    {
     "data": {
      "text/plain": [
       "30328763"
      ]
     },
     "execution_count": 34,
     "metadata": {},
     "output_type": "execute_result"
    }
   ],
   "source": [
    "# Total Orders = Average Orders + Most Orders + Fewest Orders\n",
    "\n",
    "opm['order_hour_of_day'].count()"
   ]
  },
  {
   "cell_type": "code",
   "execution_count": 35,
   "metadata": {},
   "outputs": [
    {
     "data": {
      "text/plain": [
       "30328763"
      ]
     },
     "execution_count": 35,
     "metadata": {},
     "output_type": "execute_result"
    }
   ],
   "source": [
    "# Total Orders = 30328763\n",
    "# Average Orders = 25073181\n",
    "# Most Orders = 5158322\n",
    "# Fewest Orders = 97260\n",
    "\n",
    "25073181+5158322+97260"
   ]
  },
  {
   "cell_type": "markdown",
   "metadata": {},
   "source": [
    "### - Math works out +++"
   ]
  },
  {
   "cell_type": "markdown",
   "metadata": {},
   "source": [
    "## 6) Export your dataframe as a pickle file (since you added new columns) and store it correctly in your “Prepared Data” folder."
   ]
  },
  {
   "cell_type": "code",
   "execution_count": 36,
   "metadata": {},
   "outputs": [],
   "source": [
    "opm.to_pickle(os.path.join('/Users/sjpeterson76/Desktop/CareerFoundry/Data Immersion/Achievement 4/04-25-2021- Instacart Basket Analysis/02 Data/Prepared Data',\n",
    "                          '05-05-2021 - Busiest Hours & Order Frequency'))"
   ]
  }
 ],
 "metadata": {
  "kernelspec": {
   "display_name": "Python 3",
   "language": "python",
   "name": "python3"
  },
  "language_info": {
   "codemirror_mode": {
    "name": "ipython",
    "version": 3
   },
   "file_extension": ".py",
   "mimetype": "text/x-python",
   "name": "python",
   "nbconvert_exporter": "python",
   "pygments_lexer": "ipython3",
   "version": "3.8.3"
  }
 },
 "nbformat": 4,
 "nbformat_minor": 4
}
