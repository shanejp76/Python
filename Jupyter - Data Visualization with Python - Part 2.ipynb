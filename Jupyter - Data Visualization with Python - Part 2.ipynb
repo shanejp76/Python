{
 "cells": [
  {
   "cell_type": "markdown",
   "metadata": {},
   "source": [
    "# Table of Contents -\n",
    "## 1) Import Libraries & Dataset\n",
    "## 2) Histogram 'order_hour_of_day'\n",
    "## 3) Bar Chart 'loyalty_flag'\n",
    "## 4) Sampling & Subsetting\n",
    "## 5) Exploratory Analysis\n",
    "## 6) Scatterplot 'age' & 'avg_spending_price'\n",
    "## 7) Export"
   ]
  },
  {
   "cell_type": "markdown",
   "metadata": {},
   "source": [
    "# 1) Create a new notebook, import the necessary analysis and visualization libraries, then import your most up-to-date project data (i.e., the data set with your new customer data from the first part of this task)."
   ]
  },
  {
   "cell_type": "code",
   "execution_count": 1,
   "metadata": {},
   "outputs": [],
   "source": [
    "# Import libraries\n",
    "\n",
    "import pandas as pd\n",
    "import numpy as np\n",
    "import os\n",
    "import matplotlib.pyplot as plt\n",
    "import seaborn as sns\n",
    "import scipy"
   ]
  },
  {
   "cell_type": "code",
   "execution_count": 2,
   "metadata": {},
   "outputs": [],
   "source": [
    "# Import master dataframe\n",
    "\n",
    "df=pd.read_pickle('/Users/sjpeterson76/Desktop/CareerFoundry/Data Immersion/Achievement 4/04-25-2021- Instacart Basket Analysis/02 Data/Prepared Data/customers_opm.pkl')"
   ]
  },
  {
   "cell_type": "code",
   "execution_count": 3,
   "metadata": {},
   "outputs": [
    {
     "data": {
      "text/html": [
       "<div>\n",
       "<style scoped>\n",
       "    .dataframe tbody tr th:only-of-type {\n",
       "        vertical-align: middle;\n",
       "    }\n",
       "\n",
       "    .dataframe tbody tr th {\n",
       "        vertical-align: top;\n",
       "    }\n",
       "\n",
       "    .dataframe thead th {\n",
       "        text-align: right;\n",
       "    }\n",
       "</style>\n",
       "<table border=\"1\" class=\"dataframe\">\n",
       "  <thead>\n",
       "    <tr style=\"text-align: right;\">\n",
       "      <th></th>\n",
       "      <th>user_id</th>\n",
       "      <th>last_name</th>\n",
       "      <th>gender</th>\n",
       "      <th>state</th>\n",
       "      <th>age</th>\n",
       "      <th>date_joined</th>\n",
       "      <th>n_dependants</th>\n",
       "      <th>fam_status</th>\n",
       "      <th>income</th>\n",
       "      <th>order_id</th>\n",
       "      <th>...</th>\n",
       "      <th>aisle_id</th>\n",
       "      <th>department_id</th>\n",
       "      <th>prices</th>\n",
       "      <th>_merge</th>\n",
       "      <th>max_order</th>\n",
       "      <th>loyalty_flag</th>\n",
       "      <th>avg_spending_price</th>\n",
       "      <th>spending_flag</th>\n",
       "      <th>median_dspo</th>\n",
       "      <th>frequency_flag</th>\n",
       "    </tr>\n",
       "  </thead>\n",
       "  <tbody>\n",
       "    <tr>\n",
       "      <th>0</th>\n",
       "      <td>26711</td>\n",
       "      <td>Esquivel</td>\n",
       "      <td>Female</td>\n",
       "      <td>Missouri</td>\n",
       "      <td>48</td>\n",
       "      <td>1/1/2017</td>\n",
       "      <td>3</td>\n",
       "      <td>married</td>\n",
       "      <td>165665</td>\n",
       "      <td>2543867</td>\n",
       "      <td>...</td>\n",
       "      <td>77</td>\n",
       "      <td>7</td>\n",
       "      <td>9.0</td>\n",
       "      <td>both</td>\n",
       "      <td>8</td>\n",
       "      <td>New customer</td>\n",
       "      <td>8.205882</td>\n",
       "      <td>Low spender</td>\n",
       "      <td>19.0</td>\n",
       "      <td>Regular customer</td>\n",
       "    </tr>\n",
       "    <tr>\n",
       "      <th>1</th>\n",
       "      <td>26711</td>\n",
       "      <td>Esquivel</td>\n",
       "      <td>Female</td>\n",
       "      <td>Missouri</td>\n",
       "      <td>48</td>\n",
       "      <td>1/1/2017</td>\n",
       "      <td>3</td>\n",
       "      <td>married</td>\n",
       "      <td>165665</td>\n",
       "      <td>1285508</td>\n",
       "      <td>...</td>\n",
       "      <td>77</td>\n",
       "      <td>7</td>\n",
       "      <td>9.0</td>\n",
       "      <td>both</td>\n",
       "      <td>8</td>\n",
       "      <td>New customer</td>\n",
       "      <td>8.205882</td>\n",
       "      <td>Low spender</td>\n",
       "      <td>19.0</td>\n",
       "      <td>Regular customer</td>\n",
       "    </tr>\n",
       "    <tr>\n",
       "      <th>2</th>\n",
       "      <td>26711</td>\n",
       "      <td>Esquivel</td>\n",
       "      <td>Female</td>\n",
       "      <td>Missouri</td>\n",
       "      <td>48</td>\n",
       "      <td>1/1/2017</td>\n",
       "      <td>3</td>\n",
       "      <td>married</td>\n",
       "      <td>165665</td>\n",
       "      <td>2578584</td>\n",
       "      <td>...</td>\n",
       "      <td>77</td>\n",
       "      <td>7</td>\n",
       "      <td>9.0</td>\n",
       "      <td>both</td>\n",
       "      <td>8</td>\n",
       "      <td>New customer</td>\n",
       "      <td>8.205882</td>\n",
       "      <td>Low spender</td>\n",
       "      <td>19.0</td>\n",
       "      <td>Regular customer</td>\n",
       "    </tr>\n",
       "    <tr>\n",
       "      <th>3</th>\n",
       "      <td>26711</td>\n",
       "      <td>Esquivel</td>\n",
       "      <td>Female</td>\n",
       "      <td>Missouri</td>\n",
       "      <td>48</td>\n",
       "      <td>1/1/2017</td>\n",
       "      <td>3</td>\n",
       "      <td>married</td>\n",
       "      <td>165665</td>\n",
       "      <td>423547</td>\n",
       "      <td>...</td>\n",
       "      <td>120</td>\n",
       "      <td>16</td>\n",
       "      <td>12.6</td>\n",
       "      <td>both</td>\n",
       "      <td>8</td>\n",
       "      <td>New customer</td>\n",
       "      <td>8.205882</td>\n",
       "      <td>Low spender</td>\n",
       "      <td>19.0</td>\n",
       "      <td>Regular customer</td>\n",
       "    </tr>\n",
       "    <tr>\n",
       "      <th>4</th>\n",
       "      <td>26711</td>\n",
       "      <td>Esquivel</td>\n",
       "      <td>Female</td>\n",
       "      <td>Missouri</td>\n",
       "      <td>48</td>\n",
       "      <td>1/1/2017</td>\n",
       "      <td>3</td>\n",
       "      <td>married</td>\n",
       "      <td>165665</td>\n",
       "      <td>2524893</td>\n",
       "      <td>...</td>\n",
       "      <td>120</td>\n",
       "      <td>16</td>\n",
       "      <td>12.6</td>\n",
       "      <td>both</td>\n",
       "      <td>8</td>\n",
       "      <td>New customer</td>\n",
       "      <td>8.205882</td>\n",
       "      <td>Low spender</td>\n",
       "      <td>19.0</td>\n",
       "      <td>Regular customer</td>\n",
       "    </tr>\n",
       "  </tbody>\n",
       "</table>\n",
       "<p>5 rows × 30 columns</p>\n",
       "</div>"
      ],
      "text/plain": [
       "   user_id last_name  gender     state  age date_joined  n_dependants  \\\n",
       "0    26711  Esquivel  Female  Missouri   48    1/1/2017             3   \n",
       "1    26711  Esquivel  Female  Missouri   48    1/1/2017             3   \n",
       "2    26711  Esquivel  Female  Missouri   48    1/1/2017             3   \n",
       "3    26711  Esquivel  Female  Missouri   48    1/1/2017             3   \n",
       "4    26711  Esquivel  Female  Missouri   48    1/1/2017             3   \n",
       "\n",
       "  fam_status  income  order_id  ... aisle_id  department_id  prices  _merge  \\\n",
       "0    married  165665   2543867  ...       77              7     9.0    both   \n",
       "1    married  165665   1285508  ...       77              7     9.0    both   \n",
       "2    married  165665   2578584  ...       77              7     9.0    both   \n",
       "3    married  165665    423547  ...      120             16    12.6    both   \n",
       "4    married  165665   2524893  ...      120             16    12.6    both   \n",
       "\n",
       "   max_order  loyalty_flag  avg_spending_price  spending_flag  median_dspo  \\\n",
       "0          8  New customer            8.205882    Low spender         19.0   \n",
       "1          8  New customer            8.205882    Low spender         19.0   \n",
       "2          8  New customer            8.205882    Low spender         19.0   \n",
       "3          8  New customer            8.205882    Low spender         19.0   \n",
       "4          8  New customer            8.205882    Low spender         19.0   \n",
       "\n",
       "     frequency_flag  \n",
       "0  Regular customer  \n",
       "1  Regular customer  \n",
       "2  Regular customer  \n",
       "3  Regular customer  \n",
       "4  Regular customer  \n",
       "\n",
       "[5 rows x 30 columns]"
      ]
     },
     "execution_count": 3,
     "metadata": {},
     "output_type": "execute_result"
    }
   ],
   "source": [
    "df.head()"
   ]
  },
  {
   "cell_type": "code",
   "execution_count": 4,
   "metadata": {},
   "outputs": [
    {
     "data": {
      "text/plain": [
       "(30328763, 30)"
      ]
     },
     "execution_count": 4,
     "metadata": {},
     "output_type": "execute_result"
    }
   ],
   "source": [
    "df.shape"
   ]
  },
  {
   "cell_type": "code",
   "execution_count": 5,
   "metadata": {},
   "outputs": [
    {
     "name": "stdout",
     "output_type": "stream",
     "text": [
      "<class 'pandas.core.frame.DataFrame'>\n",
      "Int64Index: 30328763 entries, 0 to 30328762\n",
      "Data columns (total 30 columns):\n",
      " #   Column                  Dtype   \n",
      "---  ------                  -----   \n",
      " 0   user_id                 int64   \n",
      " 1   last_name               object  \n",
      " 2   gender                  object  \n",
      " 3   state                   object  \n",
      " 4   age                     int64   \n",
      " 5   date_joined             object  \n",
      " 6   n_dependants            int64   \n",
      " 7   fam_status              object  \n",
      " 8   income                  int64   \n",
      " 9   order_id                int64   \n",
      " 10  eval_set                object  \n",
      " 11  order_number            int64   \n",
      " 12  orders_day_of_week      int64   \n",
      " 13  order_hour_of_day       int64   \n",
      " 14  days_since_prior_order  float64 \n",
      " 15  product_id              int64   \n",
      " 16  add_to_cart_order       int64   \n",
      " 17  reordered               int64   \n",
      " 18  Unnamed: 0              int64   \n",
      " 19  product_name            object  \n",
      " 20  aisle_id                int64   \n",
      " 21  department_id           int64   \n",
      " 22  prices                  float64 \n",
      " 23  _merge                  category\n",
      " 24  max_order               int64   \n",
      " 25  loyalty_flag            object  \n",
      " 26  avg_spending_price      float64 \n",
      " 27  spending_flag           object  \n",
      " 28  median_dspo             float64 \n",
      " 29  frequency_flag          object  \n",
      "dtypes: category(1), float64(4), int64(15), object(10)\n",
      "memory usage: 6.8+ GB\n"
     ]
    }
   ],
   "source": [
    "df.info()"
   ]
  },
  {
   "cell_type": "code",
   "execution_count": 6,
   "metadata": {},
   "outputs": [
    {
     "data": {
      "text/html": [
       "<div>\n",
       "<style scoped>\n",
       "    .dataframe tbody tr th:only-of-type {\n",
       "        vertical-align: middle;\n",
       "    }\n",
       "\n",
       "    .dataframe tbody tr th {\n",
       "        vertical-align: top;\n",
       "    }\n",
       "\n",
       "    .dataframe thead th {\n",
       "        text-align: right;\n",
       "    }\n",
       "</style>\n",
       "<table border=\"1\" class=\"dataframe\">\n",
       "  <thead>\n",
       "    <tr style=\"text-align: right;\">\n",
       "      <th></th>\n",
       "      <th>user_id</th>\n",
       "      <th>age</th>\n",
       "      <th>n_dependants</th>\n",
       "      <th>income</th>\n",
       "      <th>order_id</th>\n",
       "      <th>order_number</th>\n",
       "      <th>orders_day_of_week</th>\n",
       "      <th>order_hour_of_day</th>\n",
       "      <th>days_since_prior_order</th>\n",
       "      <th>product_id</th>\n",
       "      <th>add_to_cart_order</th>\n",
       "      <th>reordered</th>\n",
       "      <th>Unnamed: 0</th>\n",
       "      <th>aisle_id</th>\n",
       "      <th>department_id</th>\n",
       "      <th>prices</th>\n",
       "      <th>max_order</th>\n",
       "      <th>avg_spending_price</th>\n",
       "      <th>median_dspo</th>\n",
       "    </tr>\n",
       "  </thead>\n",
       "  <tbody>\n",
       "    <tr>\n",
       "      <th>count</th>\n",
       "      <td>3.032876e+07</td>\n",
       "      <td>3.032876e+07</td>\n",
       "      <td>3.032876e+07</td>\n",
       "      <td>3.032876e+07</td>\n",
       "      <td>3.032876e+07</td>\n",
       "      <td>3.032876e+07</td>\n",
       "      <td>3.032876e+07</td>\n",
       "      <td>3.032876e+07</td>\n",
       "      <td>3.032876e+07</td>\n",
       "      <td>3.032876e+07</td>\n",
       "      <td>3.032876e+07</td>\n",
       "      <td>3.032876e+07</td>\n",
       "      <td>3.032876e+07</td>\n",
       "      <td>3.032876e+07</td>\n",
       "      <td>3.032876e+07</td>\n",
       "      <td>3.032876e+07</td>\n",
       "      <td>3.032876e+07</td>\n",
       "      <td>3.032876e+07</td>\n",
       "      <td>3.032876e+07</td>\n",
       "    </tr>\n",
       "    <tr>\n",
       "      <th>mean</th>\n",
       "      <td>1.029339e+05</td>\n",
       "      <td>4.946447e+01</td>\n",
       "      <td>1.501960e+00</td>\n",
       "      <td>9.954015e+04</td>\n",
       "      <td>1.710734e+06</td>\n",
       "      <td>1.824729e+01</td>\n",
       "      <td>2.740832e+00</td>\n",
       "      <td>1.341142e+01</td>\n",
       "      <td>1.110408e+01</td>\n",
       "      <td>2.559649e+04</td>\n",
       "      <td>8.355623e+00</td>\n",
       "      <td>6.299463e-01</td>\n",
       "      <td>2.559820e+04</td>\n",
       "      <td>7.119183e+01</td>\n",
       "      <td>9.922036e+00</td>\n",
       "      <td>1.197725e+01</td>\n",
       "      <td>3.420208e+01</td>\n",
       "      <td>1.197725e+01</td>\n",
       "      <td>1.008815e+01</td>\n",
       "    </tr>\n",
       "    <tr>\n",
       "      <th>std</th>\n",
       "      <td>5.946847e+04</td>\n",
       "      <td>1.848533e+01</td>\n",
       "      <td>1.118932e+00</td>\n",
       "      <td>4.310834e+04</td>\n",
       "      <td>9.872433e+05</td>\n",
       "      <td>1.759198e+01</td>\n",
       "      <td>2.087951e+00</td>\n",
       "      <td>4.246834e+00</td>\n",
       "      <td>8.779064e+00</td>\n",
       "      <td>1.408189e+04</td>\n",
       "      <td>7.133935e+00</td>\n",
       "      <td>4.828188e-01</td>\n",
       "      <td>1.408344e+04</td>\n",
       "      <td>3.821413e+01</td>\n",
       "      <td>6.281967e+00</td>\n",
       "      <td>4.963730e+02</td>\n",
       "      <td>2.521129e+01</td>\n",
       "      <td>8.429401e+01</td>\n",
       "      <td>6.885755e+00</td>\n",
       "    </tr>\n",
       "    <tr>\n",
       "      <th>min</th>\n",
       "      <td>1.000000e+00</td>\n",
       "      <td>1.800000e+01</td>\n",
       "      <td>0.000000e+00</td>\n",
       "      <td>2.590300e+04</td>\n",
       "      <td>2.000000e+00</td>\n",
       "      <td>2.000000e+00</td>\n",
       "      <td>0.000000e+00</td>\n",
       "      <td>0.000000e+00</td>\n",
       "      <td>0.000000e+00</td>\n",
       "      <td>1.000000e+00</td>\n",
       "      <td>1.000000e+00</td>\n",
       "      <td>0.000000e+00</td>\n",
       "      <td>0.000000e+00</td>\n",
       "      <td>1.000000e+00</td>\n",
       "      <td>1.000000e+00</td>\n",
       "      <td>1.000000e+00</td>\n",
       "      <td>2.000000e+00</td>\n",
       "      <td>1.000000e+00</td>\n",
       "      <td>0.000000e+00</td>\n",
       "    </tr>\n",
       "    <tr>\n",
       "      <th>25%</th>\n",
       "      <td>5.140900e+04</td>\n",
       "      <td>3.300000e+01</td>\n",
       "      <td>1.000000e+00</td>\n",
       "      <td>6.712900e+04</td>\n",
       "      <td>8.561425e+05</td>\n",
       "      <td>6.000000e+00</td>\n",
       "      <td>1.000000e+00</td>\n",
       "      <td>1.000000e+01</td>\n",
       "      <td>5.000000e+00</td>\n",
       "      <td>1.354100e+04</td>\n",
       "      <td>3.000000e+00</td>\n",
       "      <td>0.000000e+00</td>\n",
       "      <td>1.354100e+04</td>\n",
       "      <td>3.100000e+01</td>\n",
       "      <td>4.000000e+00</td>\n",
       "      <td>4.200000e+00</td>\n",
       "      <td>1.400000e+01</td>\n",
       "      <td>7.385366e+00</td>\n",
       "      <td>6.000000e+00</td>\n",
       "    </tr>\n",
       "    <tr>\n",
       "      <th>50%</th>\n",
       "      <td>1.025990e+05</td>\n",
       "      <td>4.900000e+01</td>\n",
       "      <td>2.000000e+00</td>\n",
       "      <td>9.666500e+04</td>\n",
       "      <td>1.710898e+06</td>\n",
       "      <td>1.200000e+01</td>\n",
       "      <td>3.000000e+00</td>\n",
       "      <td>1.300000e+01</td>\n",
       "      <td>8.000000e+00</td>\n",
       "      <td>2.527200e+04</td>\n",
       "      <td>6.000000e+00</td>\n",
       "      <td>1.000000e+00</td>\n",
       "      <td>2.527300e+04</td>\n",
       "      <td>8.300000e+01</td>\n",
       "      <td>9.000000e+00</td>\n",
       "      <td>7.400000e+00</td>\n",
       "      <td>2.800000e+01</td>\n",
       "      <td>7.825526e+00</td>\n",
       "      <td>7.000000e+00</td>\n",
       "    </tr>\n",
       "    <tr>\n",
       "      <th>75%</th>\n",
       "      <td>1.543850e+05</td>\n",
       "      <td>6.500000e+01</td>\n",
       "      <td>3.000000e+00</td>\n",
       "      <td>1.279650e+05</td>\n",
       "      <td>2.565509e+06</td>\n",
       "      <td>2.500000e+01</td>\n",
       "      <td>5.000000e+00</td>\n",
       "      <td>1.600000e+01</td>\n",
       "      <td>1.500000e+01</td>\n",
       "      <td>3.794700e+04</td>\n",
       "      <td>1.100000e+01</td>\n",
       "      <td>1.000000e+00</td>\n",
       "      <td>3.795100e+04</td>\n",
       "      <td>1.070000e+02</td>\n",
       "      <td>1.600000e+01</td>\n",
       "      <td>1.130000e+01</td>\n",
       "      <td>4.800000e+01</td>\n",
       "      <td>8.257932e+00</td>\n",
       "      <td>1.300000e+01</td>\n",
       "    </tr>\n",
       "    <tr>\n",
       "      <th>max</th>\n",
       "      <td>2.062090e+05</td>\n",
       "      <td>8.100000e+01</td>\n",
       "      <td>3.000000e+00</td>\n",
       "      <td>5.939010e+05</td>\n",
       "      <td>3.421083e+06</td>\n",
       "      <td>9.900000e+01</td>\n",
       "      <td>6.000000e+00</td>\n",
       "      <td>2.300000e+01</td>\n",
       "      <td>3.000000e+01</td>\n",
       "      <td>4.968800e+04</td>\n",
       "      <td>1.450000e+02</td>\n",
       "      <td>1.000000e+00</td>\n",
       "      <td>4.969200e+04</td>\n",
       "      <td>1.340000e+02</td>\n",
       "      <td>2.100000e+01</td>\n",
       "      <td>9.999900e+04</td>\n",
       "      <td>9.900000e+01</td>\n",
       "      <td>3.333903e+04</td>\n",
       "      <td>3.000000e+01</td>\n",
       "    </tr>\n",
       "  </tbody>\n",
       "</table>\n",
       "</div>"
      ],
      "text/plain": [
       "            user_id           age  n_dependants        income      order_id  \\\n",
       "count  3.032876e+07  3.032876e+07  3.032876e+07  3.032876e+07  3.032876e+07   \n",
       "mean   1.029339e+05  4.946447e+01  1.501960e+00  9.954015e+04  1.710734e+06   \n",
       "std    5.946847e+04  1.848533e+01  1.118932e+00  4.310834e+04  9.872433e+05   \n",
       "min    1.000000e+00  1.800000e+01  0.000000e+00  2.590300e+04  2.000000e+00   \n",
       "25%    5.140900e+04  3.300000e+01  1.000000e+00  6.712900e+04  8.561425e+05   \n",
       "50%    1.025990e+05  4.900000e+01  2.000000e+00  9.666500e+04  1.710898e+06   \n",
       "75%    1.543850e+05  6.500000e+01  3.000000e+00  1.279650e+05  2.565509e+06   \n",
       "max    2.062090e+05  8.100000e+01  3.000000e+00  5.939010e+05  3.421083e+06   \n",
       "\n",
       "       order_number  orders_day_of_week  order_hour_of_day  \\\n",
       "count  3.032876e+07        3.032876e+07       3.032876e+07   \n",
       "mean   1.824729e+01        2.740832e+00       1.341142e+01   \n",
       "std    1.759198e+01        2.087951e+00       4.246834e+00   \n",
       "min    2.000000e+00        0.000000e+00       0.000000e+00   \n",
       "25%    6.000000e+00        1.000000e+00       1.000000e+01   \n",
       "50%    1.200000e+01        3.000000e+00       1.300000e+01   \n",
       "75%    2.500000e+01        5.000000e+00       1.600000e+01   \n",
       "max    9.900000e+01        6.000000e+00       2.300000e+01   \n",
       "\n",
       "       days_since_prior_order    product_id  add_to_cart_order     reordered  \\\n",
       "count            3.032876e+07  3.032876e+07       3.032876e+07  3.032876e+07   \n",
       "mean             1.110408e+01  2.559649e+04       8.355623e+00  6.299463e-01   \n",
       "std              8.779064e+00  1.408189e+04       7.133935e+00  4.828188e-01   \n",
       "min              0.000000e+00  1.000000e+00       1.000000e+00  0.000000e+00   \n",
       "25%              5.000000e+00  1.354100e+04       3.000000e+00  0.000000e+00   \n",
       "50%              8.000000e+00  2.527200e+04       6.000000e+00  1.000000e+00   \n",
       "75%              1.500000e+01  3.794700e+04       1.100000e+01  1.000000e+00   \n",
       "max              3.000000e+01  4.968800e+04       1.450000e+02  1.000000e+00   \n",
       "\n",
       "         Unnamed: 0      aisle_id  department_id        prices     max_order  \\\n",
       "count  3.032876e+07  3.032876e+07   3.032876e+07  3.032876e+07  3.032876e+07   \n",
       "mean   2.559820e+04  7.119183e+01   9.922036e+00  1.197725e+01  3.420208e+01   \n",
       "std    1.408344e+04  3.821413e+01   6.281967e+00  4.963730e+02  2.521129e+01   \n",
       "min    0.000000e+00  1.000000e+00   1.000000e+00  1.000000e+00  2.000000e+00   \n",
       "25%    1.354100e+04  3.100000e+01   4.000000e+00  4.200000e+00  1.400000e+01   \n",
       "50%    2.527300e+04  8.300000e+01   9.000000e+00  7.400000e+00  2.800000e+01   \n",
       "75%    3.795100e+04  1.070000e+02   1.600000e+01  1.130000e+01  4.800000e+01   \n",
       "max    4.969200e+04  1.340000e+02   2.100000e+01  9.999900e+04  9.900000e+01   \n",
       "\n",
       "       avg_spending_price   median_dspo  \n",
       "count        3.032876e+07  3.032876e+07  \n",
       "mean         1.197725e+01  1.008815e+01  \n",
       "std          8.429401e+01  6.885755e+00  \n",
       "min          1.000000e+00  0.000000e+00  \n",
       "25%          7.385366e+00  6.000000e+00  \n",
       "50%          7.825526e+00  7.000000e+00  \n",
       "75%          8.257932e+00  1.300000e+01  \n",
       "max          3.333903e+04  3.000000e+01  "
      ]
     },
     "execution_count": 6,
     "metadata": {},
     "output_type": "execute_result"
    }
   ],
   "source": [
    "df.describe()"
   ]
  },
  {
   "cell_type": "markdown",
   "metadata": {},
   "source": [
    "# 2) You need to provide the Instacart senior stakeholders with descriptive findings about sales. Create a histogram of the “order_hour_of_day” column.\n",
    "## - In a markdown cell beneath your histogram, describe what the histogram demonstrates."
   ]
  },
  {
   "cell_type": "code",
   "execution_count": 7,
   "metadata": {},
   "outputs": [
    {
     "data": {
      "text/plain": [
       "<matplotlib.axes._subplots.AxesSubplot at 0x7ff4ba818e80>"
      ]
     },
     "execution_count": 7,
     "metadata": {},
     "output_type": "execute_result"
    },
    {
     "data": {
      "image/png": "[encoded data removed]",
      "text/plain": [
       "<Figure size 432x288 with 1 Axes>"
      ]
     },
     "metadata": {
      "needs_background": "light"
     },
     "output_type": "display_data"
    }
   ],
   "source": [
    "# Create histogram with bins set to 50\n",
    "\n",
    "hist=df['order_hour_of_day'].plot.hist(bins=50)\n",
    "hist"
   ]
  },
  {
   "cell_type": "markdown",
   "metadata": {},
   "source": [
    "## - Orders are submitted mostly 900 hrs (9AM) - 1700 hrs (5PM). Customers rarely order before 7AM, at noon, or at 6PM."
   ]
  },
  {
   "cell_type": "markdown",
   "metadata": {},
   "source": [
    "# 3) The marketing team is curious about the distribution of orders among customers in terms of loyalty. Create a bar chart from the “loyalty_flag” column."
   ]
  },
  {
   "cell_type": "code",
   "execution_count": 8,
   "metadata": {},
   "outputs": [
    {
     "data": {
      "text/plain": [
       "<matplotlib.axes._subplots.AxesSubplot at 0x7ff714ba10a0>"
      ]
     },
     "execution_count": 8,
     "metadata": {},
     "output_type": "execute_result"
    },
    {
     "data": {
      "image/png": "[encoded data removed]",
      "text/plain": [
       "<Figure size 432x288 with 1 Axes>"
      ]
     },
     "metadata": {
      "needs_background": "light"
     },
     "output_type": "display_data"
    }
   ],
   "source": [
    "bars=df['loyalty_flag'].value_counts().plot.bar(color=['green'])\n",
    "bars"
   ]
  },
  {
   "cell_type": "markdown",
   "metadata": {},
   "source": [
    "# 4) Check whether there’s a difference in expenditure (the “prices” column) depending on the hour of the day. (Hint: To check this, you need to use an accurate sample for your line chart!)"
   ]
  },
  {
   "cell_type": "code",
   "execution_count": 9,
   "metadata": {},
   "outputs": [],
   "source": [
    "# Compare 'prices' to 'order_hour_of_day' using a line chart\n",
    "# Start by creating random samples\n",
    "\n",
    "np.random.seed(81)\n",
    "dev=np.random.rand(len(df)) <= 0.7"
   ]
  },
  {
   "cell_type": "code",
   "execution_count": 10,
   "metadata": {},
   "outputs": [],
   "source": [
    "# Split datframe into 2 samples\n",
    "\n",
    "big=df[dev]"
   ]
  },
  {
   "cell_type": "code",
   "execution_count": 11,
   "metadata": {},
   "outputs": [],
   "source": [
    "small=df[~dev]"
   ]
  },
  {
   "cell_type": "code",
   "execution_count": 12,
   "metadata": {},
   "outputs": [
    {
     "data": {
      "text/plain": [
       "30328763"
      ]
     },
     "execution_count": 12,
     "metadata": {},
     "output_type": "execute_result"
    }
   ],
   "source": [
    "# Check sizes\n",
    "\n",
    "len(df)"
   ]
  },
  {
   "cell_type": "code",
   "execution_count": 13,
   "metadata": {},
   "outputs": [
    {
     "data": {
      "text/plain": [
       "30328763"
      ]
     },
     "execution_count": 13,
     "metadata": {},
     "output_type": "execute_result"
    }
   ],
   "source": [
    "len(big)+len(small)"
   ]
  },
  {
   "cell_type": "code",
   "execution_count": 14,
   "metadata": {},
   "outputs": [],
   "source": [
    "# Reduce samples to only the columns necessary for chart\n",
    "\n",
    "df2=small[['prices','order_hour_of_day']]"
   ]
  },
  {
   "cell_type": "code",
   "execution_count": null,
   "metadata": {},
   "outputs": [],
   "source": [
    "# Draw the line chart\n",
    "\n",
    "line=sns.lineplot(data=df2,x='order_hour_of_day',y='prices')"
   ]
  },
  {
   "cell_type": "markdown",
   "metadata": {},
   "source": [
    "# 5) Now that you have information about customers, you need to conduct some exploratory analysis of customer demographics to inform the targeted marketing campaigns. First, determine whether there’s a connection between age and family status by creating a line chart exploring the connections between age and number of dependents:\n",
    "## - In a markdown cell beneath your line chart, describe what the line chart shows."
   ]
  },
  {
   "cell_type": "code",
   "execution_count": null,
   "metadata": {},
   "outputs": [],
   "source": [
    "# Is there any correlaion between age & family status?\n",
    "# Assign just the necessary columns to 'df3' for exploration\n",
    "\n",
    "df3=small[['fam_status','income']]"
   ]
  },
  {
   "cell_type": "code",
   "execution_count": null,
   "metadata": {},
   "outputs": [],
   "source": [
    "# Enter the line chart\n",
    "\n",
    "line2=sns.lineplot(data=df3,x='fam_status',y='income')"
   ]
  },
  {
   "cell_type": "markdown",
   "metadata": {},
   "source": [
    "### - It appears customers who are 'divorced/widowed' have the most buying power, followed by 'married', then 'single', then 'living with parents and siblings'."
   ]
  },
  {
   "cell_type": "markdown",
   "metadata": {},
   "source": [
    "# 6) You’ll also need to explore whether there’s a connection between age and spending power. To visualize this relationship, create a scatterplot using the sns.scatterplot() function.\n",
    "## - In a markdown cell beneath your scatterplot, describe what the scatterplot shows."
   ]
  },
  {
   "cell_type": "code",
   "execution_count": null,
   "metadata": {},
   "outputs": [],
   "source": [
    "# What's the correlation between age and 'spending power'?\n",
    "\n",
    "scatter=sns.scatterplot(x='age',y='avg_spending_price',data=df)\n",
    "scatter"
   ]
  },
  {
   "cell_type": "markdown",
   "metadata": {},
   "source": [
    "### - There is not a strong correlation between these variables. Age is no determinant of spending power."
   ]
  },
  {
   "cell_type": "markdown",
   "metadata": {},
   "source": [
    "# 7) Export your visualizations as “.png” files in your relevant project folder."
   ]
  },
  {
   "cell_type": "code",
   "execution_count": null,
   "metadata": {},
   "outputs": [],
   "source": [
    "# Save visuals to:\n",
    "# /Users/sjpeterson76/Desktop/CareerFoundry/Data Immersion/Achievement 4/04-25-2021- Instacart Basket Analysis/04 Analysis/Visualizations\n",
    "\n",
    "# Export histogram\n",
    "\n",
    "hist.figure.savefig('/Users/sjpeterson76/Desktop/CareerFoundry/Data Immersion/Achievement 4/04-25-2021- Instacart Basket Analysis/04 Analysis/Visualizations/task_4.9_histogram.png')"
   ]
  },
  {
   "cell_type": "code",
   "execution_count": null,
   "metadata": {},
   "outputs": [],
   "source": [
    "# Export bar chart\n",
    "\n",
    "bars.figure.savefig('/Users/sjpeterson76/Desktop/CareerFoundry/Data Immersion/Achievement 4/04-25-2021- Instacart Basket Analysis/04 Analysis/Visualizations/task_4.9_bars.png')"
   ]
  },
  {
   "cell_type": "code",
   "execution_count": null,
   "metadata": {},
   "outputs": [],
   "source": [
    "# Export line chart 1\n",
    "\n",
    "line.figure.savefig('/Users/sjpeterson76/Desktop/CareerFoundry/Data Immersion/Achievement 4/04-25-2021- Instacart Basket Analysis/04 Analysis/Visualizations/task_4.9_line1.png')"
   ]
  },
  {
   "cell_type": "code",
   "execution_count": null,
   "metadata": {},
   "outputs": [],
   "source": [
    "# Export line chart 2\n",
    "\n",
    "line2.figure.savefig('/Users/sjpeterson76/Desktop/CareerFoundry/Data Immersion/Achievement 4/04-25-2021- Instacart Basket Analysis/04 Analysis/Visualizations/task_4.9_line2.png')"
   ]
  },
  {
   "cell_type": "code",
   "execution_count": null,
   "metadata": {},
   "outputs": [],
   "source": [
    "# Export scaterplot\n",
    "\n",
    "scatter.figure.savefig('/Users/sjpeterson76/Desktop/CareerFoundry/Data Immersion/Achievement 4/04-25-2021- Instacart Basket Analysis/04 Analysis/Visualizations/task_4.9_scatterplot.png')"
   ]
  }
 ],
 "metadata": {
  "kernelspec": {
   "display_name": "Python 3",
   "language": "python",
   "name": "python3"
  },
  "language_info": {
   "codemirror_mode": {
    "name": "ipython",
    "version": 3
   },
   "file_extension": ".py",
   "mimetype": "text/x-python",
   "name": "python",
   "nbconvert_exporter": "python",
   "pygments_lexer": "ipython3",
   "version": "3.8.3"
  }
 },
 "nbformat": 4,
 "nbformat_minor": 4
}
